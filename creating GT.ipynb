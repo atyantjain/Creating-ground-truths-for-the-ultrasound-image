{
 "cells": [
  {
   "cell_type": "code",
   "execution_count": 2,
   "metadata": {},
   "outputs": [],
   "source": [
    "from PIL import Image\n",
    "from skimage import data, io, filters, util\n",
    "import numpy as np\n",
    "from scipy import ndimage\n",
    "from matplotlib import pyplot as plt\n",
    "import cv2\n",
    "import PIL.ImageOps\n",
    "%matplotlib inline"
   ]
  },
  {
   "cell_type": "code",
   "execution_count": 6,
   "metadata": {},
   "outputs": [],
   "source": [
    "n=150\n",
    "\n",
    "for i in range(50,n+1):\n",
    "    path=str(i)+'.tif'\n",
    "    img= cv2.imread('C:/Users/FGW/Desktop/New test/kaped'+path)\n",
    "    ret,thresh_img = cv2.threshold(img,40,255,cv2.THRESH_BINARY)\n",
    "    #plt.imshow(thresh_img)\n",
    "    inverted_img = util.invert(thresh_img)\n",
    "    #cimg = cv2.cvtColor(inverted_img,cv2.COLOR_GRAY2BGR)\n",
    "    img1 = cv2.medianBlur(inverted_img,15)\n",
    "    img2 = cv2.cvtColor(img1,cv2.COLOR_BGR2GRAY)\n",
    "    mask = cv2.imread(\"C:/Users/FGW/Desktop/mydata/black_resize_other_patient_maskkaped.tif\",0)\n",
    "    #plt.imshow(mask)\n",
    "    #mask = cv2.cvtColor(mask, cv2.COLOR_BGR2GRAY)\n",
    "    mask2= cv2.resize(mask,(520,480))\n",
    "    img3= cv2.resize(img2,(520,480))\n",
    "    #plt.imshow(img1)\n",
    "    z=img3*(mask2/255)\n",
    "    #u=cv2.cvtColor(z, cv2.COLOR_BGR2GRAY)\n",
    "    #plt.imshow(z)\n",
    "    path=str(i)+'_mask'+'.tif'\n",
    "    plt.imsave('C:/Users/FGW/Desktop/s/kaped'+path,z)"
   ]
  },
  {
   "cell_type": "code",
   "execution_count": 3,
   "metadata": {},
   "outputs": [
    {
     "data": {
      "text/plain": [
       "<matplotlib.image.AxesImage at 0x23176b2b668>"
      ]
     },
     "execution_count": 3,
     "metadata": {},
     "output_type": "execute_result"
    },
    {
     "data": {
      "image/png": "[encoded data removed]",
      "text/plain": [
       "<Figure size 432x288 with 1 Axes>"
      ]
     },
     "metadata": {
      "needs_background": "light"
     },
     "output_type": "display_data"
    }
   ],
   "source": [
    "for i in range(130,n+1):\n",
    "    img= cv2.imread('C:/Users/FGW/Desktop//shaped0.tif')\n",
    "    ret,thresh_img = cv2.threshold(img,40,255,cv2.THRESH_BINARY)\n",
    "    plt.imshow(thresh_img)"
   ]
  },
  {
   "cell_type": "code",
   "execution_count": null,
   "metadata": {},
   "outputs": [],
   "source": []
  }
 ],
 "metadata": {
  "kernelspec": {
   "display_name": "Python 3",
   "language": "python",
   "name": "python3"
  },
  "language_info": {
   "codemirror_mode": {
    "name": "ipython",
    "version": 3
   },
   "file_extension": ".py",
   "mimetype": "text/x-python",
   "name": "python",
   "nbconvert_exporter": "python",
   "pygments_lexer": "ipython3",
   "version": "3.6.8"
  }
 },
 "nbformat": 4,
 "nbformat_minor": 2
}
